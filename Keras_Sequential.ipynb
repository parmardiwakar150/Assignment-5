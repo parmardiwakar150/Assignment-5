{
  "nbformat": 4,
  "nbformat_minor": 0,
  "metadata": {
    "colab": {
      "name": "Keras_Sequential.ipynb",
      "version": "0.3.2",
      "provenance": []
    },
    "kernelspec": {
      "name": "python3",
      "display_name": "Python 3"
    },
    "accelerator": "GPU"
  },
  "cells": [
    {
      "cell_type": "code",
      "metadata": {
        "id": "aZbHf8hiKi-y",
        "colab_type": "code",
        "colab": {
          "base_uri": "https://localhost:8080/",
          "height": 34
        },
        "outputId": "8be64197-d6e0-40a3-a422-cb108c823067"
      },
      "source": [
        "from keras.datasets import fashion_mnist\n",
        "from keras.utils import to_categorical\n",
        "\n",
        "(train_images, train_labels), (test_images, test_labels) = fashion_mnist.load_data()\n",
        "\n",
        "train_images = train_images.reshape((60000, 28, 28, 1))\n",
        "train_images = train_images.astype('float32') / 255\n",
        "\n",
        "test_images = test_images.reshape((10000, 28, 28, 1))\n",
        "test_images = test_images.astype('float32') / 255\n",
        "\n",
        "train_labels = to_categorical(train_labels)\n",
        "test_labels = to_categorical(test_labels)\n"
      ],
      "execution_count": 1,
      "outputs": [
        {
          "output_type": "stream",
          "text": [
            "Using TensorFlow backend.\n"
          ],
          "name": "stderr"
        }
      ]
    },
    {
      "cell_type": "code",
      "metadata": {
        "id": "JgfdtxhGKppH",
        "colab_type": "code",
        "colab": {
          "base_uri": "https://localhost:8080/",
          "height": 298
        },
        "outputId": "d722dfd9-4d32-4052-9223-9996fdf055d7"
      },
      "source": [
        "from keras import layers\n",
        "from keras import models\n",
        "\n",
        "model = models.Sequential()\n",
        "model.add(layers.Conv2D(32, (3, 3), activation='relu', input_shape=(28, 28, 1)))\n",
        "model.add(layers.BatchNormalization())\n",
        "model.add(layers.Conv2D(32, (3, 3), activation='relu'))\n",
        "model.add(layers.BatchNormalization())\n",
        "model.add(layers.MaxPooling2D((2, 2)))\n",
        "model.add(layers.Conv2D(64, (3, 3), activation='relu'))\n",
        "model.add(layers.BatchNormalization())\n",
        "model.add(layers.MaxPooling2D((2, 2)))\n",
        "model.add(layers.Conv2D(64, (3, 3), activation='relu'))\n",
        "model.add(layers.BatchNormalization())"
      ],
      "execution_count": 2,
      "outputs": [
        {
          "output_type": "stream",
          "text": [
            "WARNING: Logging before flag parsing goes to stderr.\n",
            "W0618 07:06:08.372336 140463258916736 deprecation_wrapper.py:119] From /usr/local/lib/python3.6/dist-packages/keras/backend/tensorflow_backend.py:74: The name tf.get_default_graph is deprecated. Please use tf.compat.v1.get_default_graph instead.\n",
            "\n",
            "W0618 07:06:08.398053 140463258916736 deprecation_wrapper.py:119] From /usr/local/lib/python3.6/dist-packages/keras/backend/tensorflow_backend.py:517: The name tf.placeholder is deprecated. Please use tf.compat.v1.placeholder instead.\n",
            "\n",
            "W0618 07:06:08.402311 140463258916736 deprecation_wrapper.py:119] From /usr/local/lib/python3.6/dist-packages/keras/backend/tensorflow_backend.py:4138: The name tf.random_uniform is deprecated. Please use tf.random.uniform instead.\n",
            "\n",
            "W0618 07:06:08.427953 140463258916736 deprecation_wrapper.py:119] From /usr/local/lib/python3.6/dist-packages/keras/backend/tensorflow_backend.py:174: The name tf.get_default_session is deprecated. Please use tf.compat.v1.get_default_session instead.\n",
            "\n",
            "W0618 07:06:08.428800 140463258916736 deprecation_wrapper.py:119] From /usr/local/lib/python3.6/dist-packages/keras/backend/tensorflow_backend.py:181: The name tf.ConfigProto is deprecated. Please use tf.compat.v1.ConfigProto instead.\n",
            "\n",
            "W0618 07:06:09.161145 140463258916736 deprecation_wrapper.py:119] From /usr/local/lib/python3.6/dist-packages/keras/backend/tensorflow_backend.py:1834: The name tf.nn.fused_batch_norm is deprecated. Please use tf.compat.v1.nn.fused_batch_norm instead.\n",
            "\n",
            "W0618 07:06:09.302303 140463258916736 deprecation_wrapper.py:119] From /usr/local/lib/python3.6/dist-packages/keras/backend/tensorflow_backend.py:3976: The name tf.nn.max_pool is deprecated. Please use tf.nn.max_pool2d instead.\n",
            "\n"
          ],
          "name": "stderr"
        }
      ]
    },
    {
      "cell_type": "code",
      "metadata": {
        "id": "zXbgYg3YK00f",
        "colab_type": "code",
        "colab": {
          "base_uri": "https://localhost:8080/",
          "height": 89
        },
        "outputId": "8d2bbd9c-7692-4463-bfd3-cb610397485b"
      },
      "source": [
        "model.add(layers.Flatten())\n",
        "model.add(layers.Dense(512, activation='relu'))\n",
        "model.add(layers.BatchNormalization())\n",
        "model.add(layers.Dropout(rate=0.3))\n",
        "model.add(layers.Dense(64, activation='relu'))\n",
        "model.add(layers.BatchNormalization())\n",
        "model.add(layers.Dropout(rate=0.3))\n",
        "model.add(layers.Dense(10, activation='softmax'))"
      ],
      "execution_count": 3,
      "outputs": [
        {
          "output_type": "stream",
          "text": [
            "W0618 07:06:13.019998 140463258916736 deprecation.py:506] From /usr/local/lib/python3.6/dist-packages/keras/backend/tensorflow_backend.py:3445: calling dropout (from tensorflow.python.ops.nn_ops) with keep_prob is deprecated and will be removed in a future version.\n",
            "Instructions for updating:\n",
            "Please use `rate` instead of `keep_prob`. Rate should be set to `rate = 1 - keep_prob`.\n"
          ],
          "name": "stderr"
        }
      ]
    },
    {
      "cell_type": "code",
      "metadata": {
        "id": "oShjEqs9ZKm2",
        "colab_type": "code",
        "colab": {}
      },
      "source": [
        "import keras\n",
        "callback_list = [keras.callbacks.EarlyStopping(monitor='acc', patience=2),\n",
        "                 keras.callbacks.ModelCheckpoint(filepath='my_model.h5', monitor='val_loss', save_best_only=True),\n",
        "                 keras.callbacks.ReduceLROnPlateau(monitor='val_loss', factor=0.1, patience=10),\n",
        "                 keras.callbacks.TensorBoard(log_dir='my_log_dir',histogram_freq=1)]"
      ],
      "execution_count": 0,
      "outputs": []
    },
    {
      "cell_type": "code",
      "metadata": {
        "id": "85-DiBnzK5yS",
        "colab_type": "code",
        "colab": {
          "base_uri": "https://localhost:8080/",
          "height": 746
        },
        "outputId": "f2107929-1140-4620-eceb-01278a7dfb03"
      },
      "source": [
        "model.compile(optimizer='rmsprop',\n",
        "              loss='categorical_crossentropy',\n",
        "              metrics=['accuracy'])\n",
        "model.fit(train_images, train_labels, validation_data=(test_images, test_labels), epochs=20, batch_size=64, callbacks=callback_list)"
      ],
      "execution_count": 7,
      "outputs": [
        {
          "output_type": "stream",
          "text": [
            "Train on 60000 samples, validate on 10000 samples\n",
            "Epoch 1/20\n",
            "60000/60000 [==============================] - 11s 190us/step - loss: 0.2875 - acc: 0.8981 - val_loss: 0.2759 - val_acc: 0.9046\n",
            "Epoch 2/20\n",
            "60000/60000 [==============================] - 10s 171us/step - loss: 0.2400 - acc: 0.9161 - val_loss: 0.2496 - val_acc: 0.9127\n",
            "Epoch 3/20\n",
            "60000/60000 [==============================] - 10s 174us/step - loss: 0.2152 - acc: 0.9242 - val_loss: 0.2278 - val_acc: 0.9169\n",
            "Epoch 4/20\n",
            "60000/60000 [==============================] - 10s 171us/step - loss: 0.1909 - acc: 0.9326 - val_loss: 0.2477 - val_acc: 0.9136\n",
            "Epoch 5/20\n",
            "60000/60000 [==============================] - 10s 172us/step - loss: 0.1742 - acc: 0.9396 - val_loss: 0.2276 - val_acc: 0.9223\n",
            "Epoch 6/20\n",
            "60000/60000 [==============================] - 10s 173us/step - loss: 0.1582 - acc: 0.9441 - val_loss: 0.2526 - val_acc: 0.9143\n",
            "Epoch 7/20\n",
            "60000/60000 [==============================] - 10s 172us/step - loss: 0.1455 - acc: 0.9493 - val_loss: 0.2426 - val_acc: 0.9186\n",
            "Epoch 8/20\n",
            "60000/60000 [==============================] - 10s 171us/step - loss: 0.1315 - acc: 0.9537 - val_loss: 0.2645 - val_acc: 0.9142\n",
            "Epoch 9/20\n",
            "60000/60000 [==============================] - 10s 171us/step - loss: 0.1193 - acc: 0.9587 - val_loss: 0.2590 - val_acc: 0.9190\n",
            "Epoch 10/20\n",
            "60000/60000 [==============================] - 10s 170us/step - loss: 0.1121 - acc: 0.9603 - val_loss: 0.2870 - val_acc: 0.9120\n",
            "Epoch 11/20\n",
            "60000/60000 [==============================] - 10s 170us/step - loss: 0.1017 - acc: 0.9638 - val_loss: 0.2786 - val_acc: 0.9204\n",
            "Epoch 12/20\n",
            "60000/60000 [==============================] - 10s 171us/step - loss: 0.0934 - acc: 0.9669 - val_loss: 0.2752 - val_acc: 0.9197\n",
            "Epoch 13/20\n",
            "60000/60000 [==============================] - 10s 172us/step - loss: 0.0878 - acc: 0.9703 - val_loss: 0.2897 - val_acc: 0.9249\n",
            "Epoch 14/20\n",
            "60000/60000 [==============================] - 10s 171us/step - loss: 0.0788 - acc: 0.9728 - val_loss: 0.2877 - val_acc: 0.9235\n",
            "Epoch 15/20\n",
            "60000/60000 [==============================] - 10s 171us/step - loss: 0.0775 - acc: 0.9729 - val_loss: 0.3004 - val_acc: 0.9214\n",
            "Epoch 16/20\n",
            "60000/60000 [==============================] - 10s 170us/step - loss: 0.0421 - acc: 0.9860 - val_loss: 0.2816 - val_acc: 0.9298\n",
            "Epoch 17/20\n",
            "60000/60000 [==============================] - 10s 170us/step - loss: 0.0292 - acc: 0.9905 - val_loss: 0.2954 - val_acc: 0.9298\n",
            "Epoch 18/20\n",
            "60000/60000 [==============================] - 10s 169us/step - loss: 0.0250 - acc: 0.9920 - val_loss: 0.3149 - val_acc: 0.9297\n",
            "Epoch 19/20\n",
            "60000/60000 [==============================] - 10s 171us/step - loss: 0.0215 - acc: 0.9931 - val_loss: 0.3282 - val_acc: 0.9293\n",
            "Epoch 20/20\n",
            "60000/60000 [==============================] - 10s 172us/step - loss: 0.0193 - acc: 0.9937 - val_loss: 0.3389 - val_acc: 0.9296\n"
          ],
          "name": "stdout"
        },
        {
          "output_type": "execute_result",
          "data": {
            "text/plain": [
              "<keras.callbacks.History at 0x7fbf6bfebf28>"
            ]
          },
          "metadata": {
            "tags": []
          },
          "execution_count": 7
        }
      ]
    },
    {
      "cell_type": "code",
      "metadata": {
        "id": "B29nAIBbK-hX",
        "colab_type": "code",
        "colab": {}
      },
      "source": [
        ""
      ],
      "execution_count": 0,
      "outputs": []
    },
    {
      "cell_type": "code",
      "metadata": {
        "id": "Z5M9cqjgNAK3",
        "colab_type": "code",
        "colab": {}
      },
      "source": [
        ""
      ],
      "execution_count": 0,
      "outputs": []
    }
  ]
}