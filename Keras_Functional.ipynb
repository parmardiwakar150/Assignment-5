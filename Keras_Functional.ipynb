{
  "nbformat": 4,
  "nbformat_minor": 0,
  "metadata": {
    "colab": {
      "name": "Keras_Functional.ipynb",
      "version": "0.3.2",
      "provenance": []
    },
    "kernelspec": {
      "name": "python3",
      "display_name": "Python 3"
    },
    "accelerator": "GPU"
  },
  "cells": [
    {
      "cell_type": "code",
      "metadata": {
        "id": "MNkK3ZrCxD0-",
        "colab_type": "code",
        "colab": {
          "base_uri": "https://localhost:8080/",
          "height": 173
        },
        "outputId": "c7d866b4-79a9-49f7-fe46-03245d80b3fb"
      },
      "source": [
        "from keras.datasets import fashion_mnist\n",
        "from keras.utils import to_categorical\n",
        "\n",
        "(train_images, train_labels), (test_images, test_labels) = fashion_mnist.load_data()\n",
        "\n",
        "train_images = train_images.reshape((60000, 28, 28, 1))\n",
        "train_images = train_images.astype('float32') / 255\n",
        "\n",
        "test_images = test_images.reshape((10000, 28, 28, 1))\n",
        "test_images = test_images.astype('float32') / 255\n",
        "\n",
        "train_labels = to_categorical(train_labels)\n",
        "test_labels = to_categorical(test_labels)"
      ],
      "execution_count": 1,
      "outputs": [
        {
          "output_type": "stream",
          "text": [
            "Using TensorFlow backend.\n"
          ],
          "name": "stderr"
        },
        {
          "output_type": "stream",
          "text": [
            "Downloading data from http://fashion-mnist.s3-website.eu-central-1.amazonaws.com/train-labels-idx1-ubyte.gz\n",
            "32768/29515 [=================================] - 0s 3us/step\n",
            "Downloading data from http://fashion-mnist.s3-website.eu-central-1.amazonaws.com/train-images-idx3-ubyte.gz\n",
            "26427392/26421880 [==============================] - 1s 0us/step\n",
            "Downloading data from http://fashion-mnist.s3-website.eu-central-1.amazonaws.com/t10k-labels-idx1-ubyte.gz\n",
            "8192/5148 [===============================================] - 0s 0us/step\n",
            "Downloading data from http://fashion-mnist.s3-website.eu-central-1.amazonaws.com/t10k-images-idx3-ubyte.gz\n",
            "4423680/4422102 [==============================] - 1s 0us/step\n"
          ],
          "name": "stdout"
        }
      ]
    },
    {
      "cell_type": "code",
      "metadata": {
        "id": "rK-2OyH28rFa",
        "colab_type": "code",
        "colab": {}
      },
      "source": [
        "from keras import Input, layers, Model"
      ],
      "execution_count": 0,
      "outputs": []
    },
    {
      "cell_type": "code",
      "metadata": {
        "id": "ILZjnPLP80NE",
        "colab_type": "code",
        "colab": {
          "base_uri": "https://localhost:8080/",
          "height": 350
        },
        "outputId": "fd78640d-bbf6-4a90-ddd3-80d1e64c5c6b"
      },
      "source": [
        "input_tensor = Input(shape=(28, 28, 1))\n",
        "x = layers.Conv2D(32, (3, 3), activation='relu')(input_tensor)\n",
        "x = layers.BatchNormalization()(x)\n",
        "x = layers.Conv2D(32, (3, 3), activation='relu')(x)\n",
        "x = layers.BatchNormalization()(x)\n",
        "x = layers.MaxPooling2D((2, 2))(x)\n",
        "x = layers.Conv2D(64, (3, 3), activation='relu')(x)\n",
        "x = layers.BatchNormalization()(x)\n",
        "x = layers.Flatten()(x)\n",
        "x = layers.Dense(512, activation='relu')(x)\n",
        "x = layers.BatchNormalization()(x)\n",
        "x = layers.Dropout(rate=0.3)(x)\n",
        "x = layers.Dense(64, activation='relu')(x)\n",
        "x = layers.Dropout(rate=0.3)(x)\n",
        "output_tensor = layers.Dense(10, activation='softmax')(x)\n"
      ],
      "execution_count": 3,
      "outputs": [
        {
          "output_type": "stream",
          "text": [
            "WARNING: Logging before flag parsing goes to stderr.\n",
            "W0618 05:26:53.528816 140123024725888 deprecation_wrapper.py:119] From /usr/local/lib/python3.6/dist-packages/keras/backend/tensorflow_backend.py:74: The name tf.get_default_graph is deprecated. Please use tf.compat.v1.get_default_graph instead.\n",
            "\n",
            "W0618 05:26:53.568086 140123024725888 deprecation_wrapper.py:119] From /usr/local/lib/python3.6/dist-packages/keras/backend/tensorflow_backend.py:517: The name tf.placeholder is deprecated. Please use tf.compat.v1.placeholder instead.\n",
            "\n",
            "W0618 05:26:53.576147 140123024725888 deprecation_wrapper.py:119] From /usr/local/lib/python3.6/dist-packages/keras/backend/tensorflow_backend.py:4138: The name tf.random_uniform is deprecated. Please use tf.random.uniform instead.\n",
            "\n",
            "W0618 05:26:53.613576 140123024725888 deprecation_wrapper.py:119] From /usr/local/lib/python3.6/dist-packages/keras/backend/tensorflow_backend.py:174: The name tf.get_default_session is deprecated. Please use tf.compat.v1.get_default_session instead.\n",
            "\n",
            "W0618 05:26:53.614892 140123024725888 deprecation_wrapper.py:119] From /usr/local/lib/python3.6/dist-packages/keras/backend/tensorflow_backend.py:181: The name tf.ConfigProto is deprecated. Please use tf.compat.v1.ConfigProto instead.\n",
            "\n",
            "W0618 05:26:56.519797 140123024725888 deprecation_wrapper.py:119] From /usr/local/lib/python3.6/dist-packages/keras/backend/tensorflow_backend.py:1834: The name tf.nn.fused_batch_norm is deprecated. Please use tf.compat.v1.nn.fused_batch_norm instead.\n",
            "\n",
            "W0618 05:26:56.669620 140123024725888 deprecation_wrapper.py:119] From /usr/local/lib/python3.6/dist-packages/keras/backend/tensorflow_backend.py:3976: The name tf.nn.max_pool is deprecated. Please use tf.nn.max_pool2d instead.\n",
            "\n",
            "W0618 05:26:56.848852 140123024725888 deprecation.py:506] From /usr/local/lib/python3.6/dist-packages/keras/backend/tensorflow_backend.py:3445: calling dropout (from tensorflow.python.ops.nn_ops) with keep_prob is deprecated and will be removed in a future version.\n",
            "Instructions for updating:\n",
            "Please use `rate` instead of `keep_prob`. Rate should be set to `rate = 1 - keep_prob`.\n"
          ],
          "name": "stderr"
        }
      ]
    },
    {
      "cell_type": "code",
      "metadata": {
        "id": "vKqIi-1FC2q3",
        "colab_type": "code",
        "colab": {}
      },
      "source": [
        "import keras"
      ],
      "execution_count": 0,
      "outputs": []
    },
    {
      "cell_type": "code",
      "metadata": {
        "id": "bmYDl1Ae86fX",
        "colab_type": "code",
        "colab": {}
      },
      "source": [
        "model = Model(input_tensor, output_tensor)"
      ],
      "execution_count": 0,
      "outputs": []
    },
    {
      "cell_type": "code",
      "metadata": {
        "id": "ebtSPlbNCznu",
        "colab_type": "code",
        "colab": {}
      },
      "source": [
        "callback_list = [keras.callbacks.EarlyStopping(monitor='acc', patience=2),\n",
        "                 keras.callbacks.ModelCheckpoint(filepath='my_model.h5', monitor='val_loss', save_best_only=True),\n",
        "                 keras.callbacks.ReduceLROnPlateau(monitor='val_loss', factor=0.1, patience=10),\n",
        "                 keras.callbacks.TensorBoard(log_dir='my_log_dir',histogram_freq=1)]"
      ],
      "execution_count": 0,
      "outputs": []
    },
    {
      "cell_type": "code",
      "metadata": {
        "id": "1JJ-s8ayCnvy",
        "colab_type": "code",
        "colab": {
          "base_uri": "https://localhost:8080/",
          "height": 853
        },
        "outputId": "15fea6ab-ddad-4ded-a06c-d748ec2b7d2e"
      },
      "source": [
        "model.compile(optimizer='rmsprop',\n",
        "              loss='categorical_crossentropy',\n",
        "              metrics=['accuracy'])\n",
        "model.fit(train_images, train_labels, validation_data=(test_images, test_labels), epochs=20, batch_size=64, callbacks=callback_list)"
      ],
      "execution_count": 7,
      "outputs": [
        {
          "output_type": "stream",
          "text": [
            "W0618 05:27:04.980895 140123024725888 deprecation_wrapper.py:119] From /usr/local/lib/python3.6/dist-packages/keras/optimizers.py:790: The name tf.train.Optimizer is deprecated. Please use tf.compat.v1.train.Optimizer instead.\n",
            "\n",
            "W0618 05:27:05.194374 140123024725888 deprecation.py:323] From /usr/local/lib/python3.6/dist-packages/tensorflow/python/ops/math_grad.py:1250: add_dispatch_support.<locals>.wrapper (from tensorflow.python.ops.array_ops) is deprecated and will be removed in a future version.\n",
            "Instructions for updating:\n",
            "Use tf.where in 2.0, which has the same broadcast rule as np.where\n"
          ],
          "name": "stderr"
        },
        {
          "output_type": "stream",
          "text": [
            "Train on 60000 samples, validate on 10000 samples\n",
            "Epoch 1/20\n",
            "60000/60000 [==============================] - 15s 244us/step - loss: 0.4406 - acc: 0.8529 - val_loss: 0.4158 - val_acc: 0.8949\n",
            "Epoch 2/20\n",
            "60000/60000 [==============================] - 10s 173us/step - loss: 0.3002 - acc: 0.8996 - val_loss: 0.2858 - val_acc: 0.9050\n",
            "Epoch 3/20\n",
            "60000/60000 [==============================] - 10s 170us/step - loss: 0.2595 - acc: 0.9142 - val_loss: 0.3018 - val_acc: 0.9016\n",
            "Epoch 4/20\n",
            "60000/60000 [==============================] - 10s 168us/step - loss: 0.2323 - acc: 0.9228 - val_loss: 0.3685 - val_acc: 0.9040\n",
            "Epoch 5/20\n",
            "60000/60000 [==============================] - 10s 167us/step - loss: 0.2107 - acc: 0.9311 - val_loss: 0.2714 - val_acc: 0.9147\n",
            "Epoch 6/20\n",
            "60000/60000 [==============================] - 10s 167us/step - loss: 0.1931 - acc: 0.9360 - val_loss: 0.2599 - val_acc: 0.9207\n",
            "Epoch 7/20\n",
            "60000/60000 [==============================] - 10s 167us/step - loss: 0.1847 - acc: 0.9395 - val_loss: 0.3355 - val_acc: 0.9190\n",
            "Epoch 8/20\n",
            "60000/60000 [==============================] - 10s 167us/step - loss: 0.1748 - acc: 0.9444 - val_loss: 0.3891 - val_acc: 0.9209\n",
            "Epoch 9/20\n",
            "60000/60000 [==============================] - 10s 166us/step - loss: 0.1609 - acc: 0.9480 - val_loss: 0.3618 - val_acc: 0.9201\n",
            "Epoch 10/20\n",
            "60000/60000 [==============================] - 10s 166us/step - loss: 0.1557 - acc: 0.9509 - val_loss: 0.2752 - val_acc: 0.9217\n",
            "Epoch 11/20\n",
            "60000/60000 [==============================] - 10s 166us/step - loss: 0.1534 - acc: 0.9524 - val_loss: 0.3731 - val_acc: 0.9212\n",
            "Epoch 12/20\n",
            "60000/60000 [==============================] - 10s 166us/step - loss: 0.1485 - acc: 0.9548 - val_loss: 0.5981 - val_acc: 0.9233\n",
            "Epoch 13/20\n",
            "60000/60000 [==============================] - 10s 165us/step - loss: 0.1417 - acc: 0.9571 - val_loss: 0.3058 - val_acc: 0.9159\n",
            "Epoch 14/20\n",
            "60000/60000 [==============================] - 10s 163us/step - loss: 0.1333 - acc: 0.9602 - val_loss: 0.3316 - val_acc: 0.9200\n",
            "Epoch 15/20\n",
            "60000/60000 [==============================] - 10s 164us/step - loss: 0.1256 - acc: 0.9619 - val_loss: 0.2852 - val_acc: 0.9219\n",
            "Epoch 16/20\n",
            "60000/60000 [==============================] - 10s 165us/step - loss: 0.1211 - acc: 0.9652 - val_loss: 0.5687 - val_acc: 0.9273\n",
            "Epoch 17/20\n",
            "60000/60000 [==============================] - 10s 166us/step - loss: 0.0796 - acc: 0.9755 - val_loss: 0.3595 - val_acc: 0.9320\n",
            "Epoch 18/20\n",
            "60000/60000 [==============================] - 10s 163us/step - loss: 0.0613 - acc: 0.9806 - val_loss: 0.4345 - val_acc: 0.9325\n",
            "Epoch 19/20\n",
            "60000/60000 [==============================] - 10s 164us/step - loss: 0.0582 - acc: 0.9825 - val_loss: 0.4286 - val_acc: 0.9326\n",
            "Epoch 20/20\n",
            "60000/60000 [==============================] - 10s 166us/step - loss: 0.0531 - acc: 0.9834 - val_loss: 0.4374 - val_acc: 0.9332\n"
          ],
          "name": "stdout"
        },
        {
          "output_type": "execute_result",
          "data": {
            "text/plain": [
              "<keras.callbacks.History at 0x7f70a5fb2cc0>"
            ]
          },
          "metadata": {
            "tags": []
          },
          "execution_count": 7
        }
      ]
    },
    {
      "cell_type": "code",
      "metadata": {
        "id": "NyWTkO31E-ga",
        "colab_type": "code",
        "colab": {}
      },
      "source": [
        "import os"
      ],
      "execution_count": 0,
      "outputs": []
    },
    {
      "cell_type": "code",
      "metadata": {
        "id": "y5B-6KruFBd3",
        "colab_type": "code",
        "colab": {}
      },
      "source": [
        "os.mkdir('my_log_dir')"
      ],
      "execution_count": 0,
      "outputs": []
    },
    {
      "cell_type": "code",
      "metadata": {
        "id": "SOebmwcoFJaS",
        "colab_type": "code",
        "colab": {}
      },
      "source": [
        ""
      ],
      "execution_count": 0,
      "outputs": []
    }
  ]
}